{
 "cells": [
  {
   "cell_type": "code",
   "execution_count": 3116,
   "metadata": {},
   "outputs": [],
   "source": [
    "import pandas as pd\n",
    "import numpy as np"
   ]
  },
  {
   "cell_type": "code",
   "execution_count": 3117,
   "metadata": {},
   "outputs": [],
   "source": [
    "# Función sigmoide y su derivada\n",
    "def sigmoid(x):\n",
    "    return 1 / (1 + np.exp(-x))\n",
    "\n",
    "def sigmoid_derivative(x):\n",
    "    return x * (1 - x)"
   ]
  },
  {
   "cell_type": "code",
   "execution_count": 3119,
   "metadata": {},
   "outputs": [],
   "source": [
    "def linear_error(y_true, y_pred):\n",
    "     return np.mean(y_true - y_pred)\n",
    "\n",
    "def cross_entropy_loss(y_true, y_pred):\n",
    "    return -np.mean(y_true * np.log(y_pred + 1e-9))\n",
    "\n",
    "def mean_absolute_error(y_true, y_pred):\n",
    "    return np.mean(np.abs(y_true - y_pred))\n",
    "\n",
    "def binary_crossentropy(y_true, y_pred):\n",
    "    y_pred = np.clip(y_pred, 1e-7, 1 - 1e-7)\n",
    "    return -np.mean(y_true * np.log(y_pred) + (1 - y_true) * np.log(1 - y_pred))"
   ]
  },
  {
   "cell_type": "code",
   "execution_count": 3120,
   "metadata": {},
   "outputs": [],
   "source": [
    "def initialize_weights(input_size, output_size):\n",
    "    weights = np.random.randn(input_size, output_size) * 0.01\n",
    "    bias = np.zeros((1, output_size))\n",
    "    return weights, bias"
   ]
  },
  {
   "cell_type": "code",
   "execution_count": 3121,
   "metadata": {},
   "outputs": [],
   "source": [
    "def forward_pass(X, weights, bias):\n",
    "    z = np.dot(X, weights) + bias\n",
    "    return sigmoid(z)"
   ]
  },
  {
   "cell_type": "code",
   "execution_count": 3122,
   "metadata": {},
   "outputs": [],
   "source": [
    "def backpropagation(X, y, output, weights, bias, learning_rate):\n",
    "    # Calcular el error\n",
    "    error = output - y\n",
    "    \n",
    "    # Calcular los gradientes\n",
    "    d_weights = np.dot(X.T, error * sigmoid_derivative(output))\n",
    "    d_bias = np.sum(error * sigmoid_derivative(output), axis=0, keepdims=True)\n",
    "    \n",
    "    # Actualizar pesos y sesgos\n",
    "    weights -= learning_rate * d_weights\n",
    "    bias -= learning_rate * d_bias\n",
    "\n",
    "    return weights, bias"
   ]
  },
  {
   "cell_type": "code",
   "execution_count": 3123,
   "metadata": {},
   "outputs": [],
   "source": [
    "def train(X, y, input_size, output_size, epochs, learning_rate):\n",
    "    # Inicializar pesos y sesgos\n",
    "    weights, bias = initialize_weights(input_size, output_size)\n",
    "    \n",
    "    # Entrenar por varias épocas\n",
    "    for epoch in range(epochs):\n",
    "        # Propagación hacia adelante\n",
    "        output = forward_pass(X, weights, bias)\n",
    "        \n",
    "        # Calcular pérdida\n",
    "        loss = binary_crossentropy(y, output)\n",
    "        \n",
    "        # Retropropagación\n",
    "        weights, bias = backpropagation(X, y, output, weights, bias, learning_rate)\n",
    "        \n",
    "        # Imprimir el progreso cada 100 épocas\n",
    "        if epoch % 100 == 0:\n",
    "            print(f\"Epoch {epoch}, Loss: {loss:.4f}\")\n",
    "    \n",
    "    return weights, bias"
   ]
  },
  {
   "cell_type": "code",
   "execution_count": 3124,
   "metadata": {},
   "outputs": [],
   "source": [
    "# Predicción\n",
    "def predict(X, weights, bias):\n",
    "    output = forward_pass(X, weights, bias)\n",
    "    return (output > 0.3).astype(int)"
   ]
  },
  {
   "cell_type": "code",
   "execution_count": 3125,
   "metadata": {},
   "outputs": [],
   "source": [
    "#x = ([precio,metroscuadrados,pisomarmol,pisomadera,hornoagas,hornoelectrico])\n",
    "#y = ([moderna,rustica,barata])\n",
    "\n",
    "# X = np.array([\n",
    "#     [150000, 120, 1, 0, 1, 0],\n",
    "#     [80000, 80, 0, 1, 0, 1],\n",
    "#     [200000, 150, 1, 1, 1, 1],\n",
    "#     [50000, 60, 0, 0, 0, 1],\n",
    "#     [120000, 100, 1, 0, 1, 0]\n",
    "# ])\n",
    "\n",
    "\n",
    "# y = np.array([\n",
    "#     [1, 0, 0],\n",
    "#     [0, 1, 1],\n",
    "#     [1, 0, 0],\n",
    "#     [0, 1, 1],\n",
    "#     [1, 0, 0] \n",
    "# ])\n"
   ]
  },
  {
   "cell_type": "code",
   "execution_count": 3126,
   "metadata": {},
   "outputs": [
    {
     "data": {
      "text/html": [
       "<div>\n",
       "<style scoped>\n",
       "    .dataframe tbody tr th:only-of-type {\n",
       "        vertical-align: middle;\n",
       "    }\n",
       "\n",
       "    .dataframe tbody tr th {\n",
       "        vertical-align: top;\n",
       "    }\n",
       "\n",
       "    .dataframe thead th {\n",
       "        text-align: right;\n",
       "    }\n",
       "</style>\n",
       "<table border=\"1\" class=\"dataframe\">\n",
       "  <thead>\n",
       "    <tr style=\"text-align: right;\">\n",
       "      <th></th>\n",
       "      <th>Vehicle Model</th>\n",
       "      <th>Battery Capacity (kWh)</th>\n",
       "      <th>Energy Consumed (kWh)</th>\n",
       "      <th>Charging Duration (hours)</th>\n",
       "      <th>Charging Rate (kW)</th>\n",
       "      <th>Charging Cost (USD)</th>\n",
       "      <th>State of Charge (Start %)</th>\n",
       "      <th>State of Charge (End %)</th>\n",
       "      <th>Distance Driven (since last charge) (km)</th>\n",
       "      <th>Temperature (°C)</th>\n",
       "      <th>Vehicle Age (years)</th>\n",
       "      <th>User Type</th>\n",
       "    </tr>\n",
       "  </thead>\n",
       "  <tbody>\n",
       "    <tr>\n",
       "      <th>0</th>\n",
       "      <td>BMW i3</td>\n",
       "      <td>108.463007</td>\n",
       "      <td>60.712346</td>\n",
       "      <td>0.591363</td>\n",
       "      <td>36.389181</td>\n",
       "      <td>13.087717</td>\n",
       "      <td>29.371576</td>\n",
       "      <td>86.119962</td>\n",
       "      <td>293.602111</td>\n",
       "      <td>27.947953</td>\n",
       "      <td>2.0</td>\n",
       "      <td>Commuter</td>\n",
       "    </tr>\n",
       "  </tbody>\n",
       "</table>\n",
       "</div>"
      ],
      "text/plain": [
       "  Vehicle Model  Battery Capacity (kWh)  Energy Consumed (kWh)  \\\n",
       "0        BMW i3              108.463007              60.712346   \n",
       "\n",
       "   Charging Duration (hours)  Charging Rate (kW)  Charging Cost (USD)  \\\n",
       "0                   0.591363           36.389181            13.087717   \n",
       "\n",
       "   State of Charge (Start %)  State of Charge (End %)  \\\n",
       "0                  29.371576                86.119962   \n",
       "\n",
       "   Distance Driven (since last charge) (km)  Temperature (°C)  \\\n",
       "0                                293.602111         27.947953   \n",
       "\n",
       "   Vehicle Age (years) User Type  \n",
       "0                  2.0  Commuter  "
      ]
     },
     "execution_count": 3126,
     "metadata": {},
     "output_type": "execute_result"
    }
   ],
   "source": [
    "dataset = pd.read_csv(\"ev_charging_patterns.csv\")\n",
    "dataset = dataset.dropna()\n",
    "dataset = dataset.drop(columns=['User ID', 'Charging Station ID', 'Charging Station Location','Charging Start Time','Charging End Time','Time of Day','Day of Week','Charger Type'])\n",
    "dataset.head(1)"
   ]
  },
  {
   "cell_type": "code",
   "execution_count": 3127,
   "metadata": {},
   "outputs": [
    {
     "data": {
      "text/plain": [
       "array([[0, 1, 0],\n",
       "       [1, 0, 0],\n",
       "       [0, 1, 0],\n",
       "       ...,\n",
       "       [0, 1, 0],\n",
       "       [0, 1, 0],\n",
       "       [0, 1, 0]])"
      ]
     },
     "execution_count": 3127,
     "metadata": {},
     "output_type": "execute_result"
    }
   ],
   "source": [
    "X = dataset.drop('User Type', axis=1)\n",
    "X = pd.get_dummies(X, drop_first=False).astype(int).to_numpy()\n",
    "\n",
    "y = dataset['User Type']\n",
    "y= pd.get_dummies(y, drop_first=False).astype(int).to_numpy()\n",
    "y"
   ]
  },
  {
   "cell_type": "code",
   "execution_count": 3128,
   "metadata": {},
   "outputs": [],
   "source": [
    "# Parámetros\n",
    "input_size = X.shape[1]\n",
    "output_size = y.shape[1]\n",
    "epochs = 10000\n",
    "learning_rate = 0.001"
   ]
  },
  {
   "cell_type": "code",
   "execution_count": 3129,
   "metadata": {},
   "outputs": [
    {
     "name": "stdout",
     "output_type": "stream",
     "text": [
      "Epoch 0, Loss: 1.1673\n",
      "Epoch 100, Loss: 6.9071\n",
      "Epoch 200, Loss: 6.9071\n",
      "Epoch 300, Loss: 6.9071\n",
      "Epoch 400, Loss: 6.9071\n",
      "Epoch 500, Loss: 6.9071\n"
     ]
    },
    {
     "name": "stderr",
     "output_type": "stream",
     "text": [
      "C:\\Users\\Usuario\\AppData\\Local\\Temp\\ipykernel_50332\\626581559.py:3: RuntimeWarning: overflow encountered in exp\n",
      "  return 1 / (1 + np.exp(-x))\n"
     ]
    },
    {
     "name": "stdout",
     "output_type": "stream",
     "text": [
      "Epoch 600, Loss: 6.9071\n",
      "Epoch 700, Loss: 6.9071\n",
      "Epoch 800, Loss: 6.9071\n",
      "Epoch 900, Loss: 6.9071\n",
      "Epoch 1000, Loss: 6.9071\n",
      "Epoch 1100, Loss: 6.9071\n",
      "Epoch 1200, Loss: 6.9071\n",
      "Epoch 1300, Loss: 6.9071\n",
      "Epoch 1400, Loss: 6.9071\n",
      "Epoch 1500, Loss: 6.9071\n",
      "Epoch 1600, Loss: 6.9071\n",
      "Epoch 1700, Loss: 6.9071\n",
      "Epoch 1800, Loss: 6.9071\n",
      "Epoch 1900, Loss: 6.9071\n",
      "Epoch 2000, Loss: 6.9071\n",
      "Epoch 2100, Loss: 6.9071\n",
      "Epoch 2200, Loss: 6.9071\n",
      "Epoch 2300, Loss: 6.9071\n",
      "Epoch 2400, Loss: 6.9071\n",
      "Epoch 2500, Loss: 6.9071\n",
      "Epoch 2600, Loss: 6.9071\n",
      "Epoch 2700, Loss: 6.9071\n",
      "Epoch 2800, Loss: 6.9071\n",
      "Epoch 2900, Loss: 6.9071\n",
      "Epoch 3000, Loss: 6.9071\n",
      "Epoch 3100, Loss: 6.9071\n",
      "Epoch 3200, Loss: 6.9071\n",
      "Epoch 3300, Loss: 6.9071\n",
      "Epoch 3400, Loss: 6.9071\n",
      "Epoch 3500, Loss: 6.9071\n",
      "Epoch 3600, Loss: 6.9071\n",
      "Epoch 3700, Loss: 6.9071\n",
      "Epoch 3800, Loss: 6.9071\n",
      "Epoch 3900, Loss: 6.9071\n",
      "Epoch 4000, Loss: 6.9071\n",
      "Epoch 4100, Loss: 6.9071\n",
      "Epoch 4200, Loss: 6.9071\n",
      "Epoch 4300, Loss: 6.9071\n",
      "Epoch 4400, Loss: 6.9071\n",
      "Epoch 4500, Loss: 6.9071\n",
      "Epoch 4600, Loss: 6.9071\n",
      "Epoch 4700, Loss: 6.9071\n",
      "Epoch 4800, Loss: 6.9071\n",
      "Epoch 4900, Loss: 6.9071\n",
      "Epoch 5000, Loss: 6.9071\n",
      "Epoch 5100, Loss: 6.9071\n",
      "Epoch 5200, Loss: 6.9071\n",
      "Epoch 5300, Loss: 6.9071\n",
      "Epoch 5400, Loss: 6.9071\n",
      "Epoch 5500, Loss: 6.9071\n",
      "Epoch 5600, Loss: 6.9071\n",
      "Epoch 5700, Loss: 6.9071\n",
      "Epoch 5800, Loss: 6.9071\n",
      "Epoch 5900, Loss: 6.9071\n",
      "Epoch 6000, Loss: 6.9071\n",
      "Epoch 6100, Loss: 6.9071\n",
      "Epoch 6200, Loss: 6.9071\n",
      "Epoch 6300, Loss: 6.9071\n",
      "Epoch 6400, Loss: 6.9071\n",
      "Epoch 6500, Loss: 6.9071\n",
      "Epoch 6600, Loss: 6.9071\n",
      "Epoch 6700, Loss: 6.9071\n",
      "Epoch 6800, Loss: 6.9071\n",
      "Epoch 6900, Loss: 6.9071\n",
      "Epoch 7000, Loss: 6.9071\n",
      "Epoch 7100, Loss: 6.9071\n",
      "Epoch 7200, Loss: 6.9071\n",
      "Epoch 7300, Loss: 6.9071\n",
      "Epoch 7400, Loss: 6.9071\n",
      "Epoch 7500, Loss: 6.9071\n",
      "Epoch 7600, Loss: 6.9071\n",
      "Epoch 7700, Loss: 6.9071\n",
      "Epoch 7800, Loss: 6.9071\n",
      "Epoch 7900, Loss: 6.9071\n",
      "Epoch 8000, Loss: 6.9071\n",
      "Epoch 8100, Loss: 6.9071\n",
      "Epoch 8200, Loss: 6.9071\n",
      "Epoch 8300, Loss: 6.9071\n",
      "Epoch 8400, Loss: 6.9071\n",
      "Epoch 8500, Loss: 6.9071\n",
      "Epoch 8600, Loss: 6.9071\n",
      "Epoch 8700, Loss: 6.9071\n",
      "Epoch 8800, Loss: 6.9071\n",
      "Epoch 8900, Loss: 6.9071\n",
      "Epoch 9000, Loss: 6.9071\n",
      "Epoch 9100, Loss: 6.9071\n",
      "Epoch 9200, Loss: 6.9071\n",
      "Epoch 9300, Loss: 6.9071\n",
      "Epoch 9400, Loss: 6.9071\n",
      "Epoch 9500, Loss: 6.9071\n",
      "Epoch 9600, Loss: 6.9071\n",
      "Epoch 9700, Loss: 6.9071\n",
      "Epoch 9800, Loss: 6.9071\n",
      "Epoch 9900, Loss: 6.9071\n"
     ]
    }
   ],
   "source": [
    "# Entrenar el modelo\n",
    "\n",
    "weights, bias = train(X, y, input_size, output_size, epochs, learning_rate)"
   ]
  },
  {
   "cell_type": "code",
   "execution_count": 3130,
   "metadata": {},
   "outputs": [
    {
     "name": "stdout",
     "output_type": "stream",
     "text": [
      "Predicciones:\n",
      "[[0 1 0]\n",
      " [0 1 0]\n",
      " [0 1 0]\n",
      " ...\n",
      " [0 1 0]\n",
      " [0 1 0]\n",
      " [0 1 0]]\n",
      "Salidas reales:\n",
      "[[0 1 0]\n",
      " [1 0 0]\n",
      " [0 1 0]\n",
      " ...\n",
      " [0 1 0]\n",
      " [0 1 0]\n",
      " [0 1 0]]\n"
     ]
    },
    {
     "name": "stderr",
     "output_type": "stream",
     "text": [
      "C:\\Users\\Usuario\\AppData\\Local\\Temp\\ipykernel_50332\\626581559.py:3: RuntimeWarning: overflow encountered in exp\n",
      "  return 1 / (1 + np.exp(-x))\n"
     ]
    }
   ],
   "source": [
    "predictions = predict(X, weights, bias)\n",
    "print(\"Predicciones:\")\n",
    "print(predictions)\n",
    "\n",
    "# Salidas reales para comparación\n",
    "print(\"Salidas reales:\")\n",
    "print(y)"
   ]
  }
 ],
 "metadata": {
  "kernelspec": {
   "display_name": "Python 3",
   "language": "python",
   "name": "python3"
  },
  "language_info": {
   "codemirror_mode": {
    "name": "ipython",
    "version": 3
   },
   "file_extension": ".py",
   "mimetype": "text/x-python",
   "name": "python",
   "nbconvert_exporter": "python",
   "pygments_lexer": "ipython3",
   "version": "3.11.9"
  }
 },
 "nbformat": 4,
 "nbformat_minor": 2
}
