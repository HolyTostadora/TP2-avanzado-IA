{
 "cells": [
  {
   "cell_type": "code",
   "execution_count": 416,
   "metadata": {},
   "outputs": [],
   "source": [
    "import pandas as pd\n",
    "import numpy as np"
   ]
  },
  {
   "cell_type": "code",
   "execution_count": 417,
   "metadata": {},
   "outputs": [],
   "source": [
    "# Función sigmoide y su derivada\n",
    "def sigmoid(x):\n",
    "    return 1 / (1 + np.exp(-x))\n",
    "\n",
    "def sigmoid_derivative(x):\n",
    "    return x * (1 - x)"
   ]
  },
  {
   "cell_type": "code",
   "execution_count": 418,
   "metadata": {},
   "outputs": [],
   "source": [
    "def linear_error(y_true, y_pred):\n",
    "    return np.mean(y_true - y_pred)\n",
    "\n",
    "def mean_absolute_error(y_true, y_pred):\n",
    "    return np.mean(np.abs(y_true - y_pred))"
   ]
  },
  {
   "cell_type": "code",
   "execution_count": 419,
   "metadata": {},
   "outputs": [],
   "source": [
    "def initialize_weights(input_size, output_size):\n",
    "    weights = np.random.randn(input_size, output_size) * 0.01\n",
    "    bias = np.zeros((1, output_size))\n",
    "    return weights, bias"
   ]
  },
  {
   "cell_type": "code",
   "execution_count": 420,
   "metadata": {},
   "outputs": [],
   "source": [
    "def forward_pass(X, weights, bias):\n",
    "    z = np.dot(X, weights) + bias\n",
    "    return sigmoid(z)"
   ]
  },
  {
   "cell_type": "code",
   "execution_count": 421,
   "metadata": {},
   "outputs": [],
   "source": [
    "def backpropagation(X, y, output, weights, bias, learning_rate):\n",
    "    # Calcular el error\n",
    "    error = output - y\n",
    "    \n",
    "    # Calcular los gradientes\n",
    "    d_weights = np.dot(X.T, error * sigmoid_derivative(output))\n",
    "    d_bias = np.sum(error * sigmoid_derivative(output), axis=0, keepdims=True)\n",
    "    \n",
    "    # Actualizar pesos y sesgos\n",
    "    weights -= learning_rate * d_weights\n",
    "    bias -= learning_rate * d_bias\n",
    "\n",
    "    return weights, bias"
   ]
  },
  {
   "cell_type": "code",
   "execution_count": 422,
   "metadata": {},
   "outputs": [],
   "source": [
    "def train(X, y, input_size, output_size, epochs, learning_rate):\n",
    "    # Inicializar pesos y sesgos\n",
    "    weights, bias = initialize_weights(input_size, output_size)\n",
    "    \n",
    "    # Entrenar por varias épocas\n",
    "    for epoch in range(epochs):\n",
    "        # Propagación hacia adelante\n",
    "        output = forward_pass(X, weights, bias)\n",
    "        \n",
    "        # Calcular pérdida\n",
    "        loss = linear_error(y, output)\n",
    "        \n",
    "        # Retropropagación\n",
    "        weights, bias = backpropagation(X, y, output, weights, bias, learning_rate)\n",
    "        \n",
    "        # Imprimir el progreso cada 100 épocas\n",
    "        if epoch % 100 == 0:\n",
    "            print(f\"Epoch {epoch}, Loss: {loss:.4f}\")\n",
    "    \n",
    "    return weights, bias"
   ]
  },
  {
   "cell_type": "code",
   "execution_count": 423,
   "metadata": {},
   "outputs": [],
   "source": [
    "# Predicción\n",
    "def predict(X, weights, bias):\n",
    "    output = forward_pass(X, weights, bias)\n",
    "    # return (output > 0.3).astype(int)\n",
    "    return output"
   ]
  },
  {
   "cell_type": "code",
   "execution_count": 424,
   "metadata": {},
   "outputs": [],
   "source": [
    "# #x = ([precio,metroscuadrados,pisomarmol,pisomadera,hornoagas,hornoelectrico])\n",
    "# #y = ([moderna,rustica,barata])\n",
    "\n",
    "# X = np.array([\n",
    "#     [150000, 120, 1, 0, 1, 0],\n",
    "#     [80000, 80, 0, 1, 0, 1],\n",
    "#     [200000, 150, 1, 1, 1, 1],\n",
    "#     [50000, 60, 0, 0, 0, 1],\n",
    "#     [120000, 100, 1, 0, 1, 0]\n",
    "# ])\n",
    "\n",
    "\n",
    "# y = np.array([\n",
    "#     [1, 0, 0],\n",
    "#     [0, 1, 1],\n",
    "#     [1, 0, 0],\n",
    "#     [0, 1, 1],\n",
    "#     [1, 0, 0] \n",
    "# ])\n"
   ]
  },
  {
   "cell_type": "code",
   "execution_count": 425,
   "metadata": {},
   "outputs": [
    {
     "data": {
      "text/html": [
       "<div>\n",
       "<style scoped>\n",
       "    .dataframe tbody tr th:only-of-type {\n",
       "        vertical-align: middle;\n",
       "    }\n",
       "\n",
       "    .dataframe tbody tr th {\n",
       "        vertical-align: top;\n",
       "    }\n",
       "\n",
       "    .dataframe thead th {\n",
       "        text-align: right;\n",
       "    }\n",
       "</style>\n",
       "<table border=\"1\" class=\"dataframe\">\n",
       "  <thead>\n",
       "    <tr style=\"text-align: right;\">\n",
       "      <th></th>\n",
       "      <th>Vehicle Model</th>\n",
       "      <th>Battery Capacity (kWh)</th>\n",
       "      <th>Energy Consumed (kWh)</th>\n",
       "      <th>Charging Duration (hours)</th>\n",
       "      <th>Charging Rate (kW)</th>\n",
       "      <th>Charging Cost (USD)</th>\n",
       "      <th>State of Charge (Start %)</th>\n",
       "      <th>State of Charge (End %)</th>\n",
       "      <th>Distance Driven (since last charge) (km)</th>\n",
       "      <th>Temperature (°C)</th>\n",
       "      <th>Vehicle Age (years)</th>\n",
       "      <th>User Type</th>\n",
       "    </tr>\n",
       "  </thead>\n",
       "  <tbody>\n",
       "    <tr>\n",
       "      <th>0</th>\n",
       "      <td>BMW i3</td>\n",
       "      <td>108.463007</td>\n",
       "      <td>60.712346</td>\n",
       "      <td>0.591363</td>\n",
       "      <td>36.389181</td>\n",
       "      <td>13.087717</td>\n",
       "      <td>29.371576</td>\n",
       "      <td>86.119962</td>\n",
       "      <td>293.602111</td>\n",
       "      <td>27.947953</td>\n",
       "      <td>2.0</td>\n",
       "      <td>Commuter</td>\n",
       "    </tr>\n",
       "  </tbody>\n",
       "</table>\n",
       "</div>"
      ],
      "text/plain": [
       "  Vehicle Model  Battery Capacity (kWh)  Energy Consumed (kWh)  \\\n",
       "0        BMW i3              108.463007              60.712346   \n",
       "\n",
       "   Charging Duration (hours)  Charging Rate (kW)  Charging Cost (USD)  \\\n",
       "0                   0.591363           36.389181            13.087717   \n",
       "\n",
       "   State of Charge (Start %)  State of Charge (End %)  \\\n",
       "0                  29.371576                86.119962   \n",
       "\n",
       "   Distance Driven (since last charge) (km)  Temperature (°C)  \\\n",
       "0                                293.602111         27.947953   \n",
       "\n",
       "   Vehicle Age (years) User Type  \n",
       "0                  2.0  Commuter  "
      ]
     },
     "execution_count": 425,
     "metadata": {},
     "output_type": "execute_result"
    }
   ],
   "source": [
    "##https://www.kaggle.com/datasets/valakhorasani/electric-vehicle-charging-patterns\n",
    "\n",
    "dataset = pd.read_csv(\"ev_charging_patterns.csv\")\n",
    "dataset = dataset.dropna()\n",
    "dataset = dataset.drop(columns=['User ID', 'Charging Station ID', 'Charging Station Location','Charging Start Time','Charging End Time','Time of Day','Day of Week','Charger Type'])\n",
    "dataset.head(1)"
   ]
  },
  {
   "cell_type": "code",
   "execution_count": 426,
   "metadata": {},
   "outputs": [
    {
     "data": {
      "text/plain": [
       "array([[0, 1, 0],\n",
       "       [1, 0, 0],\n",
       "       [0, 1, 0],\n",
       "       ...,\n",
       "       [0, 1, 0],\n",
       "       [0, 1, 0],\n",
       "       [0, 1, 0]])"
      ]
     },
     "execution_count": 426,
     "metadata": {},
     "output_type": "execute_result"
    }
   ],
   "source": [
    "X = dataset.drop('User Type', axis=1)\n",
    "X = pd.get_dummies(X, drop_first=False).astype(int).to_numpy()\n",
    "\n",
    "y = dataset['User Type']\n",
    "y= pd.get_dummies(y, drop_first=False).astype(int).to_numpy()\n",
    "y"
   ]
  },
  {
   "cell_type": "code",
   "execution_count": 427,
   "metadata": {},
   "outputs": [],
   "source": [
    "from sklearn.preprocessing import StandardScaler\n",
    "\n",
    "X = StandardScaler().fit_transform(X)\n",
    "y = StandardScaler().fit_transform(y)"
   ]
  },
  {
   "cell_type": "code",
   "execution_count": 428,
   "metadata": {},
   "outputs": [],
   "source": [
    "# Parámetros\n",
    "input_size = X.shape[1]\n",
    "output_size = y.shape[1]\n",
    "epochs = 3000\n",
    "learning_rate = 0.01"
   ]
  },
  {
   "cell_type": "code",
   "execution_count": 429,
   "metadata": {},
   "outputs": [
    {
     "name": "stdout",
     "output_type": "stream",
     "text": [
      "Epoch 0, Loss: -0.5000\n",
      "Epoch 100, Loss: -0.0599\n",
      "Epoch 200, Loss: -0.0539\n",
      "Epoch 300, Loss: -0.0514\n",
      "Epoch 400, Loss: -0.0499\n",
      "Epoch 500, Loss: -0.0492\n",
      "Epoch 600, Loss: -0.0488\n",
      "Epoch 700, Loss: -0.0484\n",
      "Epoch 800, Loss: -0.0481\n",
      "Epoch 900, Loss: -0.0480\n",
      "Epoch 1000, Loss: -0.0484\n",
      "Epoch 1100, Loss: -0.0490\n",
      "Epoch 1200, Loss: -0.0495\n",
      "Epoch 1300, Loss: -0.0496\n",
      "Epoch 1400, Loss: -0.0497\n",
      "Epoch 1500, Loss: -0.0496\n",
      "Epoch 1600, Loss: -0.0496\n",
      "Epoch 1700, Loss: -0.0496\n",
      "Epoch 1800, Loss: -0.0495\n",
      "Epoch 1900, Loss: -0.0495\n",
      "Epoch 2000, Loss: -0.0495\n",
      "Epoch 2100, Loss: -0.0494\n",
      "Epoch 2200, Loss: -0.0494\n",
      "Epoch 2300, Loss: -0.0494\n",
      "Epoch 2400, Loss: -0.0494\n",
      "Epoch 2500, Loss: -0.0494\n",
      "Epoch 2600, Loss: -0.0493\n",
      "Epoch 2700, Loss: -0.0493\n",
      "Epoch 2800, Loss: -0.0493\n",
      "Epoch 2900, Loss: -0.0493\n"
     ]
    }
   ],
   "source": [
    "# Entrenar el modelo\n",
    "\n",
    "weights, bias = train(X, y, input_size, output_size, epochs, learning_rate)"
   ]
  },
  {
   "cell_type": "code",
   "execution_count": 430,
   "metadata": {},
   "outputs": [
    {
     "name": "stdout",
     "output_type": "stream",
     "text": [
      "Predicciones:\n",
      "[[3.01265421e-05 1.31076596e-05 8.03053946e-09]\n",
      " [1.01774799e-05 1.62561091e-10 1.07990401e-08]\n",
      " [4.07766562e-08 5.70824680e-07 5.06925068e-04]\n",
      " ...\n",
      " [8.90567252e-12 4.36195796e-08 5.67173605e-10]\n",
      " [4.79657074e-12 9.86433307e-01 1.99342553e-04]\n",
      " [2.23071010e-13 5.07973521e-19 5.92809146e-09]]\n",
      "Salidas reales:\n",
      "[[-0.66390084  1.34145628 -0.71274119]\n",
      " [ 1.50624903 -0.74545851 -0.71274119]\n",
      " [-0.66390084  1.34145628 -0.71274119]\n",
      " ...\n",
      " [-0.66390084  1.34145628 -0.71274119]\n",
      " [-0.66390084  1.34145628 -0.71274119]\n",
      " [-0.66390084  1.34145628 -0.71274119]]\n"
     ]
    }
   ],
   "source": [
    "predictions = predict(X, weights, bias)\n",
    "print(\"Predicciones:\")\n",
    "print(predictions)\n",
    "\n",
    "# Salidas reales para comparación\n",
    "print(\"Salidas reales:\")\n",
    "print(y)"
   ]
  },
  {
   "cell_type": "code",
   "execution_count": 431,
   "metadata": {},
   "outputs": [
    {
     "data": {
      "text/plain": [
       "0.9684770988075814"
      ]
     },
     "execution_count": 431,
     "metadata": {},
     "output_type": "execute_result"
    }
   ],
   "source": [
    "mse = np.mean((y - predictions) ** 2)\n",
    "mse"
   ]
  },
  {
   "cell_type": "markdown",
   "metadata": {},
   "source": [
    "Bonus 1"
   ]
  },
  {
   "cell_type": "markdown",
   "metadata": {},
   "source": [
    "Para agregar  k capas ocultas con n neuronas cada una hay que hacer modificaciones en la funcion en la que se crean los weights y los bias, al igual que en la de forward propagation. Además, yo voy a usar otra funcion de activacion(ReLu) para las capas intermedias. "
   ]
  },
  {
   "cell_type": "code",
   "execution_count": 432,
   "metadata": {},
   "outputs": [],
   "source": [
    "def relu(x):\n",
    "    return np.maximum(0, x)\n",
    "\n",
    "def relu_derivative(x):\n",
    "    return np.where(x > 0, 1, 0)"
   ]
  },
  {
   "cell_type": "code",
   "execution_count": 433,
   "metadata": {},
   "outputs": [],
   "source": [
    "def bonus_initialize_weights(layer_sizes):\n",
    "    weights = []\n",
    "    biases = []\n",
    "    for i in range(len(layer_sizes) - 1):\n",
    "        w = np.random.randn(layer_sizes[i], layer_sizes[i + 1]) * 0.01\n",
    "        b = np.zeros((1, layer_sizes[i + 1]))\n",
    "        weights.append(w)\n",
    "        biases.append(b)\n",
    "    return weights, biases  "
   ]
  },
  {
   "cell_type": "code",
   "execution_count": 434,
   "metadata": {},
   "outputs": [],
   "source": [
    "def bonus_forward_pass(X, weights, biases, layer_sizes):\n",
    "    activations = [X]  # Activaciones de todas las capas excepto al salida\n",
    "    for i in range(len(layer_sizes) - 2):  # Capas ocultas\n",
    "        z = np.dot(activations[-1], weights[i]) + biases[i]\n",
    "        a = relu(z)\n",
    "        activations.append(a)\n",
    "    \n",
    "    # Capa de salida con Sigmoid\n",
    "    z = np.dot(activations[-1], weights[-1]) + biases[-1]\n",
    "    output = sigmoid(z)\n",
    "    activations.append(output)\n",
    "    \n",
    "    return activations"
   ]
  },
  {
   "cell_type": "code",
   "execution_count": 435,
   "metadata": {},
   "outputs": [],
   "source": [
    "def bonus_backpropagation(X, y, activations, weights, biases, learning_rate):\n",
    "    m = y.shape[0]  # Número de ejemplos\n",
    "    L = len(weights)  # Número de capas\n",
    "    \n",
    "    delta_z = activations[-1] - y  # Error de la capa de salida\n",
    "    delta_weights = np.dot(activations[-2].T, delta_z) / m  # Ajustado para el cálculo directo\n",
    "    delta_bias = np.sum(delta_z, axis=0, keepdims=True) / m \n",
    "\n",
    "    # delta_weights = np.dot(activations[-2].T, delta_z) / m \n",
    "    # delta_bias = np.sum(delta_z, axis=0, keepdims=True) / m \n",
    "\n",
    "\n",
    "    # Actualizar pesos y sesgos de la capa de salida\n",
    "    weights[-1] -= learning_rate * delta_weights\n",
    "    biases[-1] -= learning_rate * delta_bias\n",
    "\n",
    "    for l in range(L - 2, -1, -1):  # Desde la última capa oculta (L-2) hasta la de entrada (0)\n",
    "\n",
    "        delta_z = np.dot(delta_z, weights[l + 1].T) * relu_derivative(activations[l +1 ])\n",
    "    \n",
    "        delta_weights = np.dot(activations[l].T, delta_z) / m\n",
    "        delta_bias = np.sum(delta_z, axis=0, keepdims=True) / m\n",
    "\n",
    "        # delta_weights = np.dot(activations[l].T, delta_z)\n",
    "        # delta_bias = np.sum(delta_z, axis=0, keepdims=True)\n",
    "    \n",
    "        # Actualizar pesos y sesgos\n",
    "        weights[l] -= learning_rate * delta_weights\n",
    "        biases[l] -= learning_rate * delta_bias\n",
    "\n",
    "    return weights, biases"
   ]
  },
  {
   "cell_type": "code",
   "execution_count": 436,
   "metadata": {},
   "outputs": [],
   "source": [
    "def bonus_train(X, y, layer_sizes, epochs=1000, learning_rate=0.01):\n",
    "    # Inicializar pesos y sesgos\n",
    "    weights, biases = bonus_initialize_weights(layer_sizes)\n",
    "    \n",
    "    \n",
    "    for epoch in range(epochs):\n",
    "        # Propagación hacia adelante\n",
    "        activations = bonus_forward_pass(X, weights, biases, layer_sizes)\n",
    "        \n",
    "        # Calcular pérdida\n",
    "        loss = linear_error(y, activations[-1])\n",
    "        \n",
    "        # Retropropagación\n",
    "        weights, biases = bonus_backpropagation(X, y, activations, weights, biases, learning_rate)\n",
    "        \n",
    "        # Imprimir el progreso cada 100 épocas\n",
    "        if epoch % 100 == 0:\n",
    "            print(f\"Epoch {epoch}, Loss: {loss:.4f}\")\n",
    "    \n",
    "    return weights, biases"
   ]
  },
  {
   "cell_type": "code",
   "execution_count": 437,
   "metadata": {},
   "outputs": [],
   "source": [
    "def bonus_predict(X, weights, biases, layer_sizes):\n",
    "    activations = bonus_forward_pass(X, weights, biases, layer_sizes)\n",
    "    return activations[-1]"
   ]
  },
  {
   "cell_type": "code",
   "execution_count": 438,
   "metadata": {},
   "outputs": [
    {
     "name": "stdout",
     "output_type": "stream",
     "text": [
      "Epoch 0, Loss: -0.5000\n",
      "Epoch 100, Loss: -0.3909\n",
      "Epoch 200, Loss: -0.3116\n",
      "Epoch 300, Loss: -0.2545\n",
      "Epoch 400, Loss: -0.2129\n",
      "Epoch 500, Loss: -0.1817\n",
      "Epoch 600, Loss: -0.1578\n",
      "Epoch 700, Loss: -0.1389\n",
      "Epoch 800, Loss: -0.1238\n",
      "Epoch 900, Loss: -0.1114\n",
      "Epoch 1000, Loss: -0.1011\n",
      "Epoch 1100, Loss: -0.0924\n",
      "Epoch 1200, Loss: -0.0849\n",
      "Epoch 1300, Loss: -0.0783\n",
      "Epoch 1400, Loss: -0.0726\n",
      "Epoch 1500, Loss: -0.0675\n",
      "Epoch 1600, Loss: -0.0630\n",
      "Epoch 1700, Loss: -0.0589\n",
      "Epoch 1800, Loss: -0.0552\n",
      "Epoch 1900, Loss: -0.0518\n",
      "Epoch 2000, Loss: -0.0486\n",
      "Epoch 2100, Loss: -0.0457\n",
      "Epoch 2200, Loss: -0.0430\n",
      "Epoch 2300, Loss: -0.0405\n",
      "Epoch 2400, Loss: -0.0382\n",
      "Epoch 2500, Loss: -0.0360\n",
      "Epoch 2600, Loss: -0.0339\n",
      "Epoch 2700, Loss: -0.0320\n",
      "Epoch 2800, Loss: -0.0302\n",
      "Epoch 2900, Loss: -0.0285\n",
      "Epoch 3000, Loss: -0.0269\n",
      "Epoch 3100, Loss: -0.0254\n",
      "Epoch 3200, Loss: -0.0239\n",
      "Epoch 3300, Loss: -0.0226\n",
      "Epoch 3400, Loss: -0.0214\n",
      "Epoch 3500, Loss: -0.0202\n",
      "Epoch 3600, Loss: -0.0191\n",
      "Epoch 3700, Loss: -0.0181\n",
      "Epoch 3800, Loss: -0.0171\n",
      "Epoch 3900, Loss: -0.0163\n",
      "Epoch 4000, Loss: -0.0154\n",
      "Epoch 4100, Loss: -0.0146\n",
      "Epoch 4200, Loss: -0.0139\n",
      "Epoch 4300, Loss: -0.0132\n",
      "Epoch 4400, Loss: -0.0126\n",
      "Epoch 4500, Loss: -0.0120\n",
      "Epoch 4600, Loss: -0.0114\n",
      "Epoch 4700, Loss: -0.0109\n",
      "Epoch 4800, Loss: -0.0104\n",
      "Epoch 4900, Loss: -0.0099\n",
      "Epoch 5000, Loss: -0.0095\n",
      "Epoch 5100, Loss: -0.0091\n",
      "Epoch 5200, Loss: -0.0087\n",
      "Epoch 5300, Loss: -0.0083\n",
      "Epoch 5400, Loss: -0.0080\n",
      "Epoch 5500, Loss: -0.0077\n",
      "Epoch 5600, Loss: -0.0074\n",
      "Epoch 5700, Loss: -0.0071\n",
      "Epoch 5800, Loss: -0.0068\n",
      "Epoch 5900, Loss: -0.0066\n",
      "Epoch 6000, Loss: -0.0063\n",
      "Epoch 6100, Loss: -0.0061\n",
      "Epoch 6200, Loss: -0.0059\n",
      "Epoch 6300, Loss: -0.0057\n",
      "Epoch 6400, Loss: -0.0055\n",
      "Epoch 6500, Loss: -0.0053\n",
      "Epoch 6600, Loss: -0.0051\n",
      "Epoch 6700, Loss: -0.0049\n",
      "Epoch 6800, Loss: -0.0048\n",
      "Epoch 6900, Loss: -0.0046\n",
      "Epoch 7000, Loss: -0.0045\n",
      "Epoch 7100, Loss: -0.0044\n",
      "Epoch 7200, Loss: -0.0042\n",
      "Epoch 7300, Loss: -0.0041\n",
      "Epoch 7400, Loss: -0.0040\n",
      "Epoch 7500, Loss: -0.0039\n",
      "Epoch 7600, Loss: -0.0038\n",
      "Epoch 7700, Loss: -0.0037\n",
      "Epoch 7800, Loss: -0.0036\n",
      "Epoch 7900, Loss: -0.0035\n",
      "Epoch 8000, Loss: -0.0034\n",
      "Epoch 8100, Loss: -0.0033\n",
      "Epoch 8200, Loss: -0.0032\n",
      "Epoch 8300, Loss: -0.0031\n",
      "Epoch 8400, Loss: -0.0031\n",
      "Epoch 8500, Loss: -0.0030\n",
      "Epoch 8600, Loss: -0.0029\n",
      "Epoch 8700, Loss: -0.0028\n",
      "Epoch 8800, Loss: -0.0028\n",
      "Epoch 8900, Loss: -0.0027\n",
      "Epoch 9000, Loss: -0.0027\n",
      "Epoch 9100, Loss: -0.0026\n",
      "Epoch 9200, Loss: -0.0025\n",
      "Epoch 9300, Loss: -0.0025\n",
      "Epoch 9400, Loss: -0.0024\n",
      "Epoch 9500, Loss: -0.0024\n",
      "Epoch 9600, Loss: -0.0023\n",
      "Epoch 9700, Loss: -0.0023\n",
      "Epoch 9800, Loss: -0.0022\n",
      "Epoch 9900, Loss: -0.0022\n"
     ]
    }
   ],
   "source": [
    "input_size = X.shape[1]  # Número de características de entrada\n",
    "output_size = y.shape[1]  # Número de clases de salida\n",
    "layer_sizes = [input_size, 6,3,2, output_size]\n",
    "\n",
    "epochs = 10000\n",
    "learning_rate = 0.01\n",
    "weights, biases = bonus_train(X, y, layer_sizes, epochs, learning_rate)"
   ]
  },
  {
   "cell_type": "code",
   "execution_count": 439,
   "metadata": {},
   "outputs": [
    {
     "name": "stdout",
     "output_type": "stream",
     "text": [
      "Predicciones:\n",
      "[[0.00216756 0.00213527 0.00215983]\n",
      " [0.00216755 0.00213527 0.00215983]\n",
      " [0.00216755 0.00213527 0.00215983]\n",
      " ...\n",
      " [0.00216755 0.00213526 0.00215982]\n",
      " [0.00216754 0.00213526 0.00215982]\n",
      " [0.00216757 0.00213528 0.00215984]]\n",
      "Salidas reales:\n",
      "[[-0.66390084  1.34145628 -0.71274119]\n",
      " [ 1.50624903 -0.74545851 -0.71274119]\n",
      " [-0.66390084  1.34145628 -0.71274119]\n",
      " ...\n",
      " [-0.66390084  1.34145628 -0.71274119]\n",
      " [-0.66390084  1.34145628 -0.71274119]\n",
      " [-0.66390084  1.34145628 -0.71274119]]\n"
     ]
    }
   ],
   "source": [
    "bonus_predictions = bonus_predict(X, weights, biases, layer_sizes)\n",
    "print(\"Predicciones:\")\n",
    "print(bonus_predictions)\n",
    "\n",
    "print(\"Salidas reales:\")\n",
    "print(y)"
   ]
  },
  {
   "cell_type": "markdown",
   "metadata": {},
   "source": [
    "Bonus 2\n"
   ]
  },
  {
   "cell_type": "markdown",
   "metadata": {},
   "source": [
    "Lo que yo haría para que la salida sea mutualmente excluyente es cambiar la funcion de activación final. En vez de usar sigmoide, yo utilizaría SoftMax. Lo que esta funcion de activacion hace es que la suma de todas las columnas de la salida den 1. Al hacer esto, se puede interpretar como la probabilidad de que pertenezca a cada clase.\n",
    "\n",
    " En el dataset de tipos de conductor por ejemplo, haria que en vez de devolverme un rango entre 0 y 1 para cada posiblidad (Commuter, Long-Distance Traveler) me devuelva numeros que sumando todas las columnas den 1, haciendo que cada uno represente la posibilidad de que el conjunto original (X) perteneza a cada columna. Una vez tenga las \"probabilidades\", la que mayor chance tenga será a la que pertenece."
   ]
  }
 ],
 "metadata": {
  "kernelspec": {
   "display_name": "Python 3",
   "language": "python",
   "name": "python3"
  },
  "language_info": {
   "codemirror_mode": {
    "name": "ipython",
    "version": 3
   },
   "file_extension": ".py",
   "mimetype": "text/x-python",
   "name": "python",
   "nbconvert_exporter": "python",
   "pygments_lexer": "ipython3",
   "version": "3.11.9"
  }
 },
 "nbformat": 4,
 "nbformat_minor": 2
}
